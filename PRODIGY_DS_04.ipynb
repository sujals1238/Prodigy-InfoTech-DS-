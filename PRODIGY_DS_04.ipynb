{
 "cells": [
  {
   "cell_type": "code",
   "execution_count": 78,
   "id": "15474b6b-8069-4951-ba8b-11d91f62ea3f",
   "metadata": {},
   "outputs": [],
   "source": [
    "import pandas as pd\n",
    "import numpy as np\n",
    "import matplotlib.pyplot as plt\n",
    "import seaborn as sns\n",
    "from nltk.sentiment.vader import SentimentIntensityAnalyzer\n",
    "import nltk"
   ]
  },
  {
   "cell_type": "code",
   "execution_count": 79,
   "id": "0d942102-d4b0-4ae1-866e-4bc4e40f82a9",
   "metadata": {},
   "outputs": [
    {
     "name": "stderr",
     "output_type": "stream",
     "text": [
      "[nltk_data] Downloading package vader_lexicon to\n",
      "[nltk_data]     C:\\Users\\Hp\\AppData\\Roaming\\nltk_data...\n",
      "[nltk_data]   Package vader_lexicon is already up-to-date!\n"
     ]
    },
    {
     "data": {
      "text/plain": [
       "True"
      ]
     },
     "execution_count": 79,
     "metadata": {},
     "output_type": "execute_result"
    }
   ],
   "source": [
    "# Download VADER lexicon\n",
    "nltk.download('vader_lexicon')\n"
   ]
  },
  {
   "cell_type": "code",
   "execution_count": 80,
   "id": "a54f44ca-e4ec-46af-a76b-62baeb7b71ef",
   "metadata": {},
   "outputs": [],
   "source": [
    "\n",
    "# Define column names based on dataset description\n",
    "column_names = ['id', 'text', 'target', 'user', 'created_at']\n"
   ]
  },
  {
   "cell_type": "code",
   "execution_count": 81,
   "id": "c7780972-e1b0-4dec-baa1-c3f67ef9a912",
   "metadata": {},
   "outputs": [],
   "source": [
    "# Load the dataset with manual column names\n",
    "data = pd.read_csv('twitter_validation.csv', names=column_names)\n"
   ]
  },
  {
   "cell_type": "code",
   "execution_count": 82,
   "id": "68d3048d-077e-4c0e-b752-1f1cbaadd3b9",
   "metadata": {},
   "outputs": [
    {
     "name": "stdout",
     "output_type": "stream",
     "text": [
      "     id       text      target  \\\n",
      "0  3364   Facebook  Irrelevant   \n",
      "1   352     Amazon     Neutral   \n",
      "2  8312  Microsoft    Negative   \n",
      "3  4371      CS-GO    Negative   \n",
      "4  4433     Google     Neutral   \n",
      "\n",
      "                                                user  created_at  \n",
      "0  I mentioned on Facebook that I was struggling ...         NaN  \n",
      "1  BBC News - Amazon boss Jeff Bezos rejects clai...         NaN  \n",
      "2  @Microsoft Why do I pay for WORD when it funct...         NaN  \n",
      "3  CSGO matchmaking is so full of closet hacking,...         NaN  \n",
      "4  Now the President is slapping Americans in the...         NaN  \n"
     ]
    }
   ],
   "source": [
    "# Display the first few rows of the dataset\n",
    "print(data.head())\n"
   ]
  },
  {
   "cell_type": "code",
   "execution_count": 83,
   "id": "7eb2ad8a-3179-401e-843e-f4856c1d230c",
   "metadata": {},
   "outputs": [
    {
     "name": "stdout",
     "output_type": "stream",
     "text": [
      "0\n",
      "Empty DataFrame\n",
      "Columns: [id, text, target, user, created_at]\n",
      "Index: []\n"
     ]
    }
   ],
   "source": [
    "# Check for missing values in the 'text' column\n",
    "print(data['text'].isnull().sum())\n",
    "\n",
    "# Display rows with missing text\n",
    "print(data[data['text'].isnull()])\n"
   ]
  },
  {
   "cell_type": "code",
   "execution_count": 84,
   "id": "e138bf14-5201-45f2-bf58-2c66ead91870",
   "metadata": {},
   "outputs": [
    {
     "data": {
      "text/html": [
       "<div>\n",
       "<style scoped>\n",
       "    .dataframe tbody tr th:only-of-type {\n",
       "        vertical-align: middle;\n",
       "    }\n",
       "\n",
       "    .dataframe tbody tr th {\n",
       "        vertical-align: top;\n",
       "    }\n",
       "\n",
       "    .dataframe thead th {\n",
       "        text-align: right;\n",
       "    }\n",
       "</style>\n",
       "<table border=\"1\" class=\"dataframe\">\n",
       "  <thead>\n",
       "    <tr style=\"text-align: right;\">\n",
       "      <th></th>\n",
       "      <th>id</th>\n",
       "      <th>text</th>\n",
       "      <th>target</th>\n",
       "      <th>user</th>\n",
       "      <th>created_at</th>\n",
       "    </tr>\n",
       "  </thead>\n",
       "  <tbody>\n",
       "    <tr>\n",
       "      <th>0</th>\n",
       "      <td>3364</td>\n",
       "      <td>Facebook</td>\n",
       "      <td>Irrelevant</td>\n",
       "      <td>I mentioned on Facebook that I was struggling ...</td>\n",
       "      <td>NaN</td>\n",
       "    </tr>\n",
       "    <tr>\n",
       "      <th>1</th>\n",
       "      <td>352</td>\n",
       "      <td>Amazon</td>\n",
       "      <td>Neutral</td>\n",
       "      <td>BBC News - Amazon boss Jeff Bezos rejects clai...</td>\n",
       "      <td>NaN</td>\n",
       "    </tr>\n",
       "    <tr>\n",
       "      <th>2</th>\n",
       "      <td>8312</td>\n",
       "      <td>Microsoft</td>\n",
       "      <td>Negative</td>\n",
       "      <td>@Microsoft Why do I pay for WORD when it funct...</td>\n",
       "      <td>NaN</td>\n",
       "    </tr>\n",
       "    <tr>\n",
       "      <th>3</th>\n",
       "      <td>4371</td>\n",
       "      <td>CS-GO</td>\n",
       "      <td>Negative</td>\n",
       "      <td>CSGO matchmaking is so full of closet hacking,...</td>\n",
       "      <td>NaN</td>\n",
       "    </tr>\n",
       "    <tr>\n",
       "      <th>4</th>\n",
       "      <td>4433</td>\n",
       "      <td>Google</td>\n",
       "      <td>Neutral</td>\n",
       "      <td>Now the President is slapping Americans in the...</td>\n",
       "      <td>NaN</td>\n",
       "    </tr>\n",
       "    <tr>\n",
       "      <th>...</th>\n",
       "      <td>...</td>\n",
       "      <td>...</td>\n",
       "      <td>...</td>\n",
       "      <td>...</td>\n",
       "      <td>...</td>\n",
       "    </tr>\n",
       "    <tr>\n",
       "      <th>995</th>\n",
       "      <td>4891</td>\n",
       "      <td>GrandTheftAuto(GTA)</td>\n",
       "      <td>Irrelevant</td>\n",
       "      <td>⭐️ Toronto is the arts and culture capital of ...</td>\n",
       "      <td>NaN</td>\n",
       "    </tr>\n",
       "    <tr>\n",
       "      <th>996</th>\n",
       "      <td>4359</td>\n",
       "      <td>CS-GO</td>\n",
       "      <td>Irrelevant</td>\n",
       "      <td>tHIS IS ACTUALLY A GOOD MOVE TOT BRING MORE VI...</td>\n",
       "      <td>NaN</td>\n",
       "    </tr>\n",
       "    <tr>\n",
       "      <th>997</th>\n",
       "      <td>2652</td>\n",
       "      <td>Borderlands</td>\n",
       "      <td>Positive</td>\n",
       "      <td>Today sucked so it’s time to drink wine n play...</td>\n",
       "      <td>NaN</td>\n",
       "    </tr>\n",
       "    <tr>\n",
       "      <th>998</th>\n",
       "      <td>8069</td>\n",
       "      <td>Microsoft</td>\n",
       "      <td>Positive</td>\n",
       "      <td>Bought a fraction of Microsoft today. Small wins.</td>\n",
       "      <td>NaN</td>\n",
       "    </tr>\n",
       "    <tr>\n",
       "      <th>999</th>\n",
       "      <td>6960</td>\n",
       "      <td>johnson&amp;johnson</td>\n",
       "      <td>Neutral</td>\n",
       "      <td>Johnson &amp; Johnson to stop selling talc baby po...</td>\n",
       "      <td>NaN</td>\n",
       "    </tr>\n",
       "  </tbody>\n",
       "</table>\n",
       "<p>1000 rows × 5 columns</p>\n",
       "</div>"
      ],
      "text/plain": [
       "       id                 text      target  \\\n",
       "0    3364             Facebook  Irrelevant   \n",
       "1     352               Amazon     Neutral   \n",
       "2    8312            Microsoft    Negative   \n",
       "3    4371                CS-GO    Negative   \n",
       "4    4433               Google     Neutral   \n",
       "..    ...                  ...         ...   \n",
       "995  4891  GrandTheftAuto(GTA)  Irrelevant   \n",
       "996  4359                CS-GO  Irrelevant   \n",
       "997  2652          Borderlands    Positive   \n",
       "998  8069            Microsoft    Positive   \n",
       "999  6960      johnson&johnson     Neutral   \n",
       "\n",
       "                                                  user  created_at  \n",
       "0    I mentioned on Facebook that I was struggling ...         NaN  \n",
       "1    BBC News - Amazon boss Jeff Bezos rejects clai...         NaN  \n",
       "2    @Microsoft Why do I pay for WORD when it funct...         NaN  \n",
       "3    CSGO matchmaking is so full of closet hacking,...         NaN  \n",
       "4    Now the President is slapping Americans in the...         NaN  \n",
       "..                                                 ...         ...  \n",
       "995  ⭐️ Toronto is the arts and culture capital of ...         NaN  \n",
       "996  tHIS IS ACTUALLY A GOOD MOVE TOT BRING MORE VI...         NaN  \n",
       "997  Today sucked so it’s time to drink wine n play...         NaN  \n",
       "998  Bought a fraction of Microsoft today. Small wins.         NaN  \n",
       "999  Johnson & Johnson to stop selling talc baby po...         NaN  \n",
       "\n",
       "[1000 rows x 5 columns]"
      ]
     },
     "execution_count": 84,
     "metadata": {},
     "output_type": "execute_result"
    }
   ],
   "source": [
    "# Drop rows with missing text\n",
    "data.dropna(subset=['text'] )\n"
   ]
  },
  {
   "cell_type": "code",
   "execution_count": 85,
   "id": "de1a19ed-6037-4dac-9082-129da59fe124",
   "metadata": {},
   "outputs": [],
   "source": [
    "# Initialize the VADER sentiment analyzer\n",
    "sid = SentimentIntensityAnalyzer()\n"
   ]
  },
  {
   "cell_type": "code",
   "execution_count": 86,
   "id": "e4c5309c-07bc-44ed-8285-48afa1ae7aa3",
   "metadata": {},
   "outputs": [],
   "source": [
    "def get_sentiment(text):\n",
    "    if isinstance(text, str):  # Ensure text is a string\n",
    "        scores = sid.polarity_scores(text)\n",
    "        return scores['compound']\n",
    "    else:\n",
    "        return 0  # Neutral score for non-string values\n"
   ]
  },
  {
   "cell_type": "code",
   "execution_count": 87,
   "id": "87631912-ee7e-4eb7-b21c-3b89ed3d98c4",
   "metadata": {},
   "outputs": [],
   "source": [
    "# Apply sentiment analysis\n",
    "data['sentiment_score'] = data['text'].apply(get_sentiment)\n"
   ]
  },
  {
   "cell_type": "code",
   "execution_count": 88,
   "id": "aea037fa-ae47-4673-a1a7-54a94ab2b71e",
   "metadata": {},
   "outputs": [],
   "source": [
    "# Define sentiment categories\n",
    "def categorize_sentiment(score):\n",
    "    if score >= 0.05:\n",
    "        return 'Positive'\n",
    "    elif score <= -0.05:\n",
    "        return 'Negative'\n",
    "    else:\n",
    "        return 'Neutral'\n",
    "\n",
    "data['sentiment'] = data['sentiment_score'].apply(categorize_sentiment)\n"
   ]
  },
  {
   "cell_type": "code",
   "execution_count": 89,
   "id": "45c4f1fd-6675-4bc2-910c-2777bf5b0da6",
   "metadata": {},
   "outputs": [
    {
     "name": "stdout",
     "output_type": "stream",
     "text": [
      "sentiment\n",
      "Neutral     940\n",
      "Positive     34\n",
      "Negative     26\n",
      "Name: count, dtype: int64\n"
     ]
    }
   ],
   "source": [
    "\n",
    "# Exploratory Data Analysis (EDA)\n",
    "print(data['sentiment'].value_counts())\n"
   ]
  },
  {
   "cell_type": "code",
   "execution_count": 90,
   "id": "af3d9bec-ba5f-42c9-85bf-5402c76e98e6",
   "metadata": {},
   "outputs": [
    {
     "name": "stdout",
     "output_type": "stream",
     "text": [
      "Positive examples:\n",
      "      id    text      target  \\\n",
      "1    352  Amazon     Neutral   \n",
      "43   316  Amazon     Neutral   \n",
      "75   171  Amazon  Irrelevant   \n",
      "117   96  Amazon    Positive   \n",
      "153  122  Amazon     Neutral   \n",
      "\n",
      "                                                  user  created_at  \\\n",
      "1    BBC News - Amazon boss Jeff Bezos rejects clai...         NaN   \n",
      "43   Amazon stops accepting new online grocery cust...         NaN   \n",
      "75   AOC you make some very ignorant comments\\nWhen...         NaN   \n",
      "117  Seeing Amazon Prime marketing Borat by getting...         NaN   \n",
      "153  I didn't have massive success in #IndieApril b...         NaN   \n",
      "\n",
      "     sentiment_score sentiment  \n",
      "1             0.1779  Positive  \n",
      "43            0.1779  Positive  \n",
      "75            0.1779  Positive  \n",
      "117           0.1779  Positive  \n",
      "153           0.1779  Positive  \n",
      "\n",
      "Negative examples:\n",
      "       id         text      target  \\\n",
      "97   1589  Battlefield    Negative   \n",
      "163  1495  Battlefield  Irrelevant   \n",
      "188  1203  Battlefield  Irrelevant   \n",
      "214  1551  Battlefield  Irrelevant   \n",
      "281  1223  Battlefield    Negative   \n",
      "\n",
      "                                                  user  created_at  \\\n",
      "97   No one buy battlefield 3 on steam! It doesn’t ...         NaN   \n",
      "163  Thank you to everyone who joined me on my kerf...         NaN   \n",
      "188  First Community ban with 13/11 K/D after killi...         NaN   \n",
      "214      Really good in-depth video, highly recommend.         NaN   \n",
      "281  @EAHelp Hi was booted from battlefield V game ...         NaN   \n",
      "\n",
      "     sentiment_score sentiment  \n",
      "97           -0.3818  Negative  \n",
      "163          -0.3818  Negative  \n",
      "188          -0.3818  Negative  \n",
      "214          -0.3818  Negative  \n",
      "281          -0.3818  Negative  \n",
      "\n",
      "Neutral examples:\n",
      "     id       text      target  \\\n",
      "0  3364   Facebook  Irrelevant   \n",
      "2  8312  Microsoft    Negative   \n",
      "3  4371      CS-GO    Negative   \n",
      "4  4433     Google     Neutral   \n",
      "5  6273       FIFA    Negative   \n",
      "\n",
      "                                                user  created_at  \\\n",
      "0  I mentioned on Facebook that I was struggling ...         NaN   \n",
      "2  @Microsoft Why do I pay for WORD when it funct...         NaN   \n",
      "3  CSGO matchmaking is so full of closet hacking,...         NaN   \n",
      "4  Now the President is slapping Americans in the...         NaN   \n",
      "5  Hi @EAHelp I’ve had Madeleine McCann in my cel...         NaN   \n",
      "\n",
      "   sentiment_score sentiment  \n",
      "0              0.0   Neutral  \n",
      "2              0.0   Neutral  \n",
      "3              0.0   Neutral  \n",
      "4              0.0   Neutral  \n",
      "5              0.0   Neutral  \n"
     ]
    }
   ],
   "source": [
    "# Display a few examples of each sentiment category\n",
    "print(\"Positive examples:\")\n",
    "print(data[data['sentiment'] == 'Positive'].head())\n",
    "\n",
    "print(\"\\nNegative examples:\")\n",
    "print(data[data['sentiment'] == 'Negative'].head())\n",
    "\n",
    "print(\"\\nNeutral examples:\")\n",
    "print(data[data['sentiment'] == 'Neutral'].head())"
   ]
  },
  {
   "cell_type": "code",
   "execution_count": 91,
   "id": "b7ff1ba2-923d-4ff9-b176-fb7d9d0367c3",
   "metadata": {},
   "outputs": [
    {
     "data": {
      "image/png": "[encoded data removed]",
      "text/plain": [
       "<Figure size 1000x600 with 1 Axes>"
      ]
     },
     "metadata": {},
     "output_type": "display_data"
    }
   ],
   "source": [
    "\n",
    "# Visualization of Sentiment Patterns\n",
    "plt.figure(figsize=(10, 6))\n",
    "sns.countplot(data=data, x='sentiment')\n",
    "plt.title('Sentiment Distribution')\n",
    "plt.xlabel('Sentiment')\n",
    "plt.ylabel('Count')\n",
    "plt.show()\n"
   ]
  },
  {
   "cell_type": "code",
   "execution_count": 92,
   "id": "fb42c555-553e-486d-b9ec-f7a7a27ac321",
   "metadata": {},
   "outputs": [
    {
     "data": {
      "image/png": "[encoded data removed]",
      "text/plain": [
       "<Figure size 1400x700 with 1 Axes>"
      ]
     },
     "metadata": {},
     "output_type": "display_data"
    }
   ],
   "source": [
    "# Sentiment distribution over time (assuming 'created_at' column exists)\n",
    "if 'created_at' in data.columns:\n",
    "    # Convert 'created_at' to datetime\n",
    "    data['created_at'] = pd.to_datetime(data['created_at'], errors='coerce')\n",
    "    \n",
    "    # Drop rows where 'created_at' is NaT\n",
    "    data = data.dropna(subset=['created_at'])\n",
    "    \n",
    "    # Set 'created_at' as the index\n",
    "    data.set_index('created_at', inplace=True)\n",
    "    \n",
    "    # Resample by month-start and calculate mean sentiment score\n",
    "    sentiment_time = data.resample('MS').agg({'sentiment_score': 'mean'})\n",
    "    \n",
    "    # Plot the sentiment over time\n",
    "    plt.figure(figsize=(14, 7))\n",
    "    plt.plot(sentiment_time, marker='o', linestyle='-')\n",
    "    plt.title('Average Sentiment Score Over Time')\n",
    "    plt.xlabel('Time')\n",
    "    plt.ylabel('Average Sentiment Score')\n",
    "    plt.show()\n"
   ]
  },
  {
   "cell_type": "code",
   "execution_count": 93,
   "id": "19ec68a3-5eef-4f53-8357-c2eab902522e",
   "metadata": {},
   "outputs": [],
   "source": [
    "# Function to generate word clouds\n",
    "def generate_wordcloud(text, title):\n",
    "    if text.strip():  # Check if the text is not empty\n",
    "        wordcloud = WordCloud(width=800, height=400, background_color='white').generate(text)\n",
    "        plt.figure(figsize=(10, 5))\n",
    "        plt.imshow(wordcloud, interpolation='bilinear')\n",
    "        plt.title(title)\n",
    "        plt.axis('off')\n",
    "        plt.show()\n",
    "    else:\n",
    "        print(f\"No text available for {title}\")\n"
   ]
  },
  {
   "cell_type": "code",
   "execution_count": 94,
   "id": "3b0d2aef-bdc8-4ddd-a7ed-b91dee872225",
   "metadata": {},
   "outputs": [],
   "source": [
    " # Generate word clouds for each sentiment category\n",
    "from wordcloud import WordCloud\n",
    "\n",
    "\n",
    "positive_text = ' '.join(data[data['sentiment'] == 'Positive']['text'])\n",
    "negative_text = ' '.join(data[data['sentiment'] == 'Negative']['text'])\n",
    "neutral_text = ' '.join(data[data['sentiment'] == 'Neutral']['text'])\n"
   ]
  },
  {
   "cell_type": "code",
   "execution_count": 95,
   "id": "cf3ca81e-5253-48b0-abe7-7edfb620c86d",
   "metadata": {},
   "outputs": [
    {
     "name": "stdout",
     "output_type": "stream",
     "text": [
      "No text available for Positive Tweets\n",
      "No text available for Negative Tweets\n",
      "No text available for Neutral Tweets\n"
     ]
    }
   ],
   "source": [
    "generate_wordcloud(positive_text, 'Positive Tweets')\n",
    "generate_wordcloud(negative_text, 'Negative Tweets')\n",
    "generate_wordcloud(neutral_text, 'Neutral Tweets')"
   ]
  },
  {
   "cell_type": "code",
   "execution_count": 96,
   "id": "329b463e-628d-4752-9bf7-08e22e0d4d5d",
   "metadata": {},
   "outputs": [
    {
     "ename": "NameError",
     "evalue": "name 'train' is not defined",
     "output_type": "error",
     "traceback": [
      "\u001b[1;31m---------------------------------------------------------------------------\u001b[0m",
      "\u001b[1;31mNameError\u001b[0m                                 Traceback (most recent call last)",
      "Cell \u001b[1;32mIn[96], line 1\u001b[0m\n\u001b[1;32m----> 1\u001b[0m word_cloud_text \u001b[38;5;241m=\u001b[39m \u001b[38;5;124m'\u001b[39m\u001b[38;5;124m'\u001b[39m\u001b[38;5;241m.\u001b[39mjoin(\u001b[43mtrain\u001b[49m[train[\u001b[38;5;124m\"\u001b[39m\u001b[38;5;124mSentiment\u001b[39m\u001b[38;5;124m\"\u001b[39m]\u001b[38;5;241m==\u001b[39m\u001b[38;5;124m\"\u001b[39m\u001b[38;5;124mIrrelevant\u001b[39m\u001b[38;5;124m\"\u001b[39m]\u001b[38;5;241m.\u001b[39mTweet_content)\n\u001b[0;32m      2\u001b[0m wordcloud \u001b[38;5;241m=\u001b[39m WordCloud(\n\u001b[0;32m      3\u001b[0m     max_font_size\u001b[38;5;241m=\u001b[39m\u001b[38;5;241m100\u001b[39m,\n\u001b[0;32m      4\u001b[0m     max_words\u001b[38;5;241m=\u001b[39m\u001b[38;5;241m100\u001b[39m,\n\u001b[1;32m   (...)\u001b[0m\n\u001b[0;32m      8\u001b[0m     height\u001b[38;5;241m=\u001b[39m\u001b[38;5;241m800\u001b[39m\n\u001b[0;32m      9\u001b[0m )\u001b[38;5;241m.\u001b[39mgenerate(word_cloud_text)\n\u001b[0;32m     10\u001b[0m \u001b[38;5;66;03m#Figure properties\u001b[39;00m\n",
      "\u001b[1;31mNameError\u001b[0m: name 'train' is not defined"
     ]
    }
   ],
   "source": [
    "word_cloud_text = ''.join(train[train[\"Sentiment\"]==\"Irrelevant\"].Tweet_content)\n",
    "wordcloud = WordCloud(\n",
    "    max_font_size=100,\n",
    "    max_words=100,\n",
    "    background_color=\"black\",\n",
    "    scale=10,\n",
    "    width=800,\n",
    "    height=800\n",
    ").generate(word_cloud_text)\n",
    "#Figure properties\n",
    "plt.figure(figsize=(6,6))\n",
    "plt.imshow(wordcloud, interpolation=\"bilinear\")\n",
    "plt.axis(\"off\")\n",
    "plt.show()"
   ]
  },
  {
   "cell_type": "code",
   "execution_count": null,
   "id": "43f89097-7f2d-41f6-b34d-f095a0881809",
   "metadata": {},
   "outputs": [],
   "source": []
  },
  {
   "cell_type": "code",
   "execution_count": null,
   "id": "d604bf53-9424-4128-8462-f85402d4dd1a",
   "metadata": {},
   "outputs": [],
   "source": []
  }
 ],
 "metadata": {
  "kernelspec": {
   "display_name": "Python 3 (ipykernel)",
   "language": "python",
   "name": "python3"
  },
  "language_info": {
   "codemirror_mode": {
    "name": "ipython",
    "version": 3
   },
   "file_extension": ".py",
   "mimetype": "text/x-python",
   "name": "python",
   "nbconvert_exporter": "python",
   "pygments_lexer": "ipython3",
   "version": "3.11.7"
  }
 },
 "nbformat": 4,
 "nbformat_minor": 5
}
